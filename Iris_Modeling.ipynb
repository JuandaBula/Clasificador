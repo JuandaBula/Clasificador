{
 "cells": [
  {
   "cell_type": "code",
   "execution_count": 1,
   "id": "20d661dd",
   "metadata": {},
   "outputs": [],
   "source": [
    "# Librerías necesarias\n",
    "from sklearn import datasets\n",
    "import pandas as pd\n",
    "from sklearn.model_selection import train_test_split\n",
    "from sklearn.linear_model import LinearRegression, LogisticRegression\n",
    "from sklearn.svm import SVC\n",
    "import pickle"
   ]
  },
  {
   "cell_type": "code",
   "execution_count": 2,
   "id": "123043a7",
   "metadata": {},
   "outputs": [],
   "source": [
    "# CARGAR LOS DATOS EN UN DATASET\n",
    "iris = datasets.load_iris()"
   ]
  },
  {
   "cell_type": "code",
   "execution_count": 3,
   "id": "008146ad",
   "metadata": {},
   "outputs": [],
   "source": [
    "X = iris.data\n",
    "y = iris.target"
   ]
  },
  {
   "cell_type": "code",
   "execution_count": 4,
   "id": "3170e581",
   "metadata": {},
   "outputs": [],
   "source": [
    "# SEPARAR DATOS EN ENTRENAMIENTO Y VALIDACIÓN\n",
    "x_train, x_test, y_train, y_test = train_test_split(X, y)"
   ]
  },
  {
   "cell_type": "markdown",
   "id": "3309756a",
   "metadata": {},
   "source": [
    "### MODELOS:"
   ]
  },
  {
   "cell_type": "code",
   "execution_count": 5,
   "id": "684303ee",
   "metadata": {},
   "outputs": [],
   "source": [
    "# Lineal:\n",
    "lin_reg = LinearRegression()\n",
    "# Logistic\n",
    "log_reg = LogisticRegression()\n",
    "# Support vector Machine\n",
    "svc_m = SVC()"
   ]
  },
  {
   "cell_type": "markdown",
   "id": "5172c3de",
   "metadata": {},
   "source": [
    "### Entrenamiento:"
   ]
  },
  {
   "cell_type": "code",
   "execution_count": 6,
   "id": "572d4a5d",
   "metadata": {},
   "outputs": [],
   "source": [
    "#entrenar modelos\n",
    "# MODELO LINEAL REGRESSION\n",
    "lin_regr = lin_reg.fit(x_train, y_train)\n",
    "# REGRESSION LOGISTICA\n",
    "log_regr = log_reg.fit(x_train, y_train)\n",
    "# SUPPORT VECTOR CLASSIFIER\n",
    "svc_mo = svc_m.fit(x_train, y_train)"
   ]
  },
  {
   "cell_type": "code",
   "execution_count": 7,
   "id": "7a90eeee",
   "metadata": {},
   "outputs": [],
   "source": [
    "# GUARDAR MODELOS EN ARCHIVO PICKLE...\n",
    "# GUARDANDO LINNEAR REGRESSION\n",
    "with open('lin_reg.pkl', 'wb') as li:\n",
    "    pickle.dump(lin_regr, li)"
   ]
  },
  {
   "cell_type": "code",
   "execution_count": 8,
   "id": "fd1d699f",
   "metadata": {},
   "outputs": [],
   "source": [
    "# GUARDANDO LOGISTIC REGRESSION\n",
    "with open('log_reg.pkl', 'wb') as lo:\n",
    "    pickle.dump(log_regr, lo)"
   ]
  },
  {
   "cell_type": "code",
   "execution_count": 9,
   "id": "d92dadb5",
   "metadata": {},
   "outputs": [],
   "source": [
    "# GUARDANDO SUPPORT VECTOR CLASSIFIER\n",
    "\n",
    "with open('svc_m.pkl', 'wb') as sv:\n",
    "    pickle.dump(svc_mo, sv)"
   ]
  },
  {
   "cell_type": "markdown",
   "id": "70e897ff",
   "metadata": {},
   "source": [
    "Página web aplicación: [Aplicación](https://github.com/l33pif/iris_web_app/blob/main/Iris_Stremlit/iris_web.py)"
   ]
  },
  {
   "cell_type": "markdown",
   "id": "b496b25e",
   "metadata": {},
   "source": [
    "## Aplicativo Web\n",
    "  - [RUNTapp](https://share.streamlit.io/sigomezgi/apliacacion-runt/Main.py)\n"
   ]
  }
 ],
 "metadata": {
  "kernelspec": {
   "display_name": "Python 3 (ipykernel)",
   "language": "python",
   "name": "python3"
  },
  "language_info": {
   "codemirror_mode": {
    "name": "ipython",
    "version": 3
   },
   "file_extension": ".py",
   "mimetype": "text/x-python",
   "name": "python",
   "nbconvert_exporter": "python",
   "pygments_lexer": "ipython3",
   "version": "3.9.13"
  },
  "latex_envs": {
   "LaTeX_envs_menu_present": true,
   "autoclose": false,
   "autocomplete": true,
   "bibliofile": "biblio.bib",
   "cite_by": "apalike",
   "current_citInitial": 1,
   "eqLabelWithNumbers": true,
   "eqNumInitial": 1,
   "hotkeys": {
    "equation": "Ctrl-E",
    "itemize": "Ctrl-I"
   },
   "labels_anchors": false,
   "latex_user_defs": false,
   "report_style_numbering": false,
   "user_envs_cfg": false
  }
 },
 "nbformat": 4,
 "nbformat_minor": 5
}
